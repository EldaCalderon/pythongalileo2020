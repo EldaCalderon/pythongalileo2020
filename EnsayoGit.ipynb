{
 "cells": [
  {
   "cell_type": "markdown",
   "metadata": {},
   "source": [
    "**Elda Magally Calderón Motta**\n",
    "\n",
    "**Carné: 16003182**\n",
    "\n",
    "**Sección: V**"
   ]
  },
  {
   "cell_type": "markdown",
   "metadata": {},
   "source": [
    "# Ensayo Version Control (Git)"
   ]
  },
  {
   "cell_type": "markdown",
   "metadata": {},
   "source": [
    "## Introducción\n",
    "Los sistemas de control de versiones son una herramienta para gestionar los cambios en el código fuente en vivo.\n",
    "Si algún error es hecho los desarrolladores pueden ver las versiones anteriores de su código para solucionar los errores y trabajar más fluido en equipo.\n",
    "\n",
    "Estas herramientas son valiosas ya que permiten la interacción de un equipo en un proyecto en concreto para agilizar las tareas del mismo, así como identificar los cambios que se realizan a lo largo del código en tiempo y forma."
   ]
  },
  {
   "cell_type": "markdown",
   "metadata": {},
   "source": [
    "## Sistemas de Control de Versiones\n",
    "\n",
    "Version control systems son herramientas que son usadas para registrar los cambios en el código fuente u otras colecciones de archivos.\n",
    "Son útiles para trabajar con un grupo de personas en un proyecto de software.\n",
    "\n",
    "Son una herramienta invaluable si se esta trabajano por uno mismo en pequeña escala.\n",
    "\n",
    "El propósito de los sistemas de control de versiones es llevar un registro de los cambios en archivos y coordinar el trabajo que varias personas realizan sobre archivos compartidos. En otras palabras son software de desarrollo colaborativo.\n",
    "\n",
    "El lenguaje en que se escribe es en el que el programador lleva el proyecto, pseudocódigo."
   ]
  },
  {
   "cell_type": "markdown",
   "metadata": {},
   "source": [
    "## Arboles\n",
    "El código de un proyecto comunmente es organizado en un folder o un archivo árbol. Estos guardan un grupo de archivos. El contenido se guarda como objetos de árbol, siendo las entradas de carpeta.\n",
    "\n",
    "Estos sistemas almacenan los datos como una serie de instantaneas (snapshots). En cada confirmación de cambios (commit), se almacena una instantánea del trabajo.\n",
    "\n",
    "El desarrollador de un equipo podría estar trabajando en un parte del código mientras otro arregla un error (bug). Cada uno de estos desarrolladores podría estar realizando sus cambios en el código en diferentes partes o ramas del árbol.\n",
    "\n",
    "### Ejemplo:\n",
    "\n",
    "Si se tiene una carpeta con tres archivos, se preparan (stage) todos ellos y se confirman (commit). Al preparar los archivos, el sistema realiza una suma de control de cada uno de ellos, almacena una copia de cada uno en el repositorio, y guarda cada suma de control en el área\n",
    "de preparación.\n",
    "\n",
    "Si se quisiera ver el histórico de confirmaciones o commits se puede hacer a través de logs"
   ]
  },
  {
   "cell_type": "markdown",
   "metadata": {},
   "source": [
    "## Comandos Git"
   ]
  },
  {
   "cell_type": "markdown",
   "metadata": {},
   "source": [
    "Uno de los sistemas para manejar control de versiones es Git, el cual resulta sencillo de manejar. Por ejemplo, si se quiere un directorio nuevo se puede hacer de la siguiente manera:"
   ]
  },
  {
   "cell_type": "code",
   "execution_count": 23,
   "metadata": {},
   "outputs": [
    {
     "name": "stderr",
     "output_type": "stream",
     "text": [
      "UsageError: Line magic function `%` not found.\n"
     ]
    }
   ],
   "source": [
    "% git init"
   ]
  },
  {
   "cell_type": "markdown",
   "metadata": {},
   "source": [
    "Para registrar los cambios:"
   ]
  },
  {
   "cell_type": "code",
   "execution_count": 19,
   "metadata": {},
   "outputs": [
    {
     "name": "stderr",
     "output_type": "stream",
     "text": [
      "UsageError: Line magic function `%` not found.\n"
     ]
    }
   ],
   "source": [
    "% git add \"filename\""
   ]
  },
  {
   "cell_type": "code",
   "execution_count": 13,
   "metadata": {},
   "outputs": [
    {
     "name": "stderr",
     "output_type": "stream",
     "text": [
      "UsageError: Line magic function `%` not found.\n"
     ]
    }
   ],
   "source": [
    "% new file: ejemplo.py\n",
    "\n",
    "% add ejemplo.py\n",
    "% add helo.txt\n",
    "% default ()\n",
    "\n",
    "# Crear un directorio y un archivo\n",
    "%mkdir helloworld\n",
    "%cd helloworld\n",
    "%echo \"Hello World\" > README\n",
    " \n",
    "# Inicializar el repositorio\n",
    "%git init\n",
    "%Initialized empty Git repository in /home/dave/helloworld/.git/"
   ]
  },
  {
   "cell_type": "markdown",
   "metadata": {},
   "source": [
    "Para actualizar y fusionar el repositorio:"
   ]
  },
  {
   "cell_type": "code",
   "execution_count": 16,
   "metadata": {},
   "outputs": [
    {
     "name": "stderr",
     "output_type": "stream",
     "text": [
      "UsageError: Line magic function `%` not found.\n"
     ]
    }
   ],
   "source": [
    "% git pull #actualizar repositorio al commit más nuevo\n",
    "\n",
    "% git merche <branch> #fusiona una rama con otra rama activa"
   ]
  },
  {
   "cell_type": "markdown",
   "metadata": {},
   "source": [
    "Para enviar los cambios efectuados a la rama principal se usa el comando git push:"
   ]
  },
  {
   "cell_type": "code",
   "execution_count": 21,
   "metadata": {},
   "outputs": [
    {
     "name": "stderr",
     "output_type": "stream",
     "text": [
      "UsageError: Line magic function `%` not found.\n"
     ]
    }
   ],
   "source": [
    "% git push origen master"
   ]
  },
  {
   "cell_type": "markdown",
   "metadata": {},
   "source": [
    "## Referencias\n",
    "\n",
    "Las referencias son muy utilizadas en un sistema de versiones. Una referencia es un nombre al que se asocia un commit. Es un acceso directo. "
   ]
  },
  {
   "cell_type": "markdown",
   "metadata": {},
   "source": [
    "## Beneficios\n",
    "\n",
    "* Historial completo de los cambios de un archivo, tal como eliminación o creación de archivos o las modificaciones que se hagan a los mismos.\n",
    "\n",
    "* Trabajar con múltiples equipos en un proyecto al ramificar los archivos de un árbol.\n",
    "\n",
    "* Posibilidad de dar trazabilidad a los cambios ejecutados en un archivo"
   ]
  },
  {
   "cell_type": "markdown",
   "metadata": {},
   "source": [
    "## Conclusiones\n",
    "\n",
    "* Los sistemas de control de versiones son parte esencial de los equipos de trabajo modernos e incluso de proyectos individuales.\n",
    "\n",
    "* Los sistemas de control de versiones son importantes para tener un seguimiento de los cambios que se hacen a un proyecto, los equipos de trabajo que no usan estos pueden tener dificultades para identificar los cambios que se hacen al proyecto, pudiendo terminar con un código incompatible en diferentes partes del mismo.\n",
    "\n",
    "* Git se basa en snapshots del código en un estado determinado."
   ]
  }
 ],
 "metadata": {
  "kernelspec": {
   "display_name": "Python 3",
   "language": "python",
   "name": "python3"
  },
  "language_info": {
   "codemirror_mode": {
    "name": "ipython",
    "version": 3
   },
   "file_extension": ".py",
   "mimetype": "text/x-python",
   "name": "python",
   "nbconvert_exporter": "python",
   "pygments_lexer": "ipython3",
   "version": "3.7.4"
  }
 },
 "nbformat": 4,
 "nbformat_minor": 4
}
