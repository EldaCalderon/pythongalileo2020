{
 "cells": [
  {
   "cell_type": "markdown",
   "metadata": {},
   "source": [
    "### **Nombre:** Elda Magally Calderón Motta\n",
    "### **Carné:** 16003182\n",
    "### **Sección:** Virtual"
   ]
  },
  {
   "cell_type": "markdown",
   "metadata": {},
   "source": [
    "# Tensorflow: gradient descent y tensorboard"
   ]
  },
  {
   "cell_type": "code",
   "execution_count": 1,
   "metadata": {},
   "outputs": [],
   "source": [
    "import numpy as np \n",
    "import tensorflow as tf \n",
    "import matplotlib.pyplot as plt "
   ]
  },
  {
   "cell_type": "code",
   "execution_count": 2,
   "metadata": {},
   "outputs": [],
   "source": [
    "import datetime"
   ]
  },
  {
   "cell_type": "code",
   "execution_count": 3,
   "metadata": {},
   "outputs": [
    {
     "name": "stdout",
     "output_type": "stream",
     "text": [
      "WARNING:tensorflow:From C:\\Users\\Elda\\Anaconda3\\lib\\site-packages\\tensorflow_core\\python\\compat\\v2_compat.py:88: disable_resource_variables (from tensorflow.python.ops.variable_scope) is deprecated and will be removed in a future version.\n",
      "Instructions for updating:\n",
      "non-resource variables are not supported in the long term\n"
     ]
    }
   ],
   "source": [
    "if tf.__version__.startswith(\"2.\"):\n",
    "  import tensorflow.compat.v1 as tf\n",
    "  tf.compat.v1.disable_v2_behavior()\n",
    "  tf.compat.v1.disable_eager_execution()"
   ]
  },
  {
   "cell_type": "code",
   "execution_count": 4,
   "metadata": {},
   "outputs": [
    {
     "name": "stdout",
     "output_type": "stream",
     "text": [
      "Requirement already up-to-date: pip in c:\\users\\elda\\anaconda3\\lib\\site-packages (20.1)\n",
      "Note: you may need to restart the kernel to use updated packages.\n"
     ]
    }
   ],
   "source": [
    "pip install --upgrade pip"
   ]
  },
  {
   "cell_type": "code",
   "execution_count": 5,
   "metadata": {},
   "outputs": [],
   "source": [
    "# Load the TensorBoard notebook extension\n",
    "%load_ext tensorboard"
   ]
  },
  {
   "cell_type": "code",
   "execution_count": 6,
   "metadata": {},
   "outputs": [
    {
     "data": {
      "text/plain": [
       "Reusing TensorBoard on port 6006 (pid 9828), started 1:16:41 ago. (Use '!kill 9828' to kill it.)"
      ]
     },
     "metadata": {},
     "output_type": "display_data"
    },
    {
     "data": {
      "text/html": [
       "\n",
       "      <iframe id=\"tensorboard-frame-b99c0cb0dce4f72d\" width=\"100%\" height=\"800\" frameborder=\"0\">\n",
       "      </iframe>\n",
       "      <script>\n",
       "        (function() {\n",
       "          const frame = document.getElementById(\"tensorboard-frame-b99c0cb0dce4f72d\");\n",
       "          const url = new URL(\"/\", window.location);\n",
       "          url.port = 6006;\n",
       "          frame.src = url;\n",
       "        })();\n",
       "      </script>\n",
       "  "
      ],
      "text/plain": [
       "<IPython.core.display.HTML object>"
      ]
     },
     "metadata": {},
     "output_type": "display_data"
    }
   ],
   "source": [
    "%tensorboard --logdir logs/fit"
   ]
  },
  {
   "cell_type": "code",
   "execution_count": 7,
   "metadata": {},
   "outputs": [
    {
     "name": "stdout",
     "output_type": "stream",
     "text": [
      "Requirement already satisfied: jupyter-tensorboard in c:\\users\\elda\\anaconda3\\lib\\site-packages (0.2.0)\n",
      "Requirement already satisfied: notebook>=5.0 in c:\\users\\elda\\anaconda3\\lib\\site-packages (from jupyter-tensorboard) (6.0.1)\n",
      "Requirement already satisfied: jupyter-client>=5.3.1 in c:\\users\\elda\\anaconda3\\lib\\site-packages (from notebook>=5.0->jupyter-tensorboard) (5.3.3)\n",
      "Requirement already satisfied: prometheus-client in c:\\users\\elda\\anaconda3\\lib\\site-packages (from notebook>=5.0->jupyter-tensorboard) (0.7.1)\n",
      "Requirement already satisfied: jupyter-core>=4.4.0 in c:\\users\\elda\\anaconda3\\lib\\site-packages (from notebook>=5.0->jupyter-tensorboard) (4.5.0)\n",
      "Requirement already satisfied: ipython-genutils in c:\\users\\elda\\anaconda3\\lib\\site-packages (from notebook>=5.0->jupyter-tensorboard) (0.2.0)\n",
      "Requirement already satisfied: traitlets>=4.2.1 in c:\\users\\elda\\anaconda3\\lib\\site-packages (from notebook>=5.0->jupyter-tensorboard) (4.3.3)\n",
      "Requirement already satisfied: nbconvert in c:\\users\\elda\\anaconda3\\lib\\site-packages (from notebook>=5.0->jupyter-tensorboard) (5.6.0)\n",
      "Requirement already satisfied: ipykernel in c:\\users\\elda\\anaconda3\\lib\\site-packages (from notebook>=5.0->jupyter-tensorboard) (5.1.2)\n",
      "Requirement already satisfied: Send2Trash in c:\\users\\elda\\anaconda3\\lib\\site-packages (from notebook>=5.0->jupyter-tensorboard) (1.5.0)\n",
      "Requirement already satisfied: pyzmq>=17 in c:\\users\\elda\\anaconda3\\lib\\site-packages (from notebook>=5.0->jupyter-tensorboard) (18.1.0)\n",
      "Requirement already satisfied: jinja2 in c:\\users\\elda\\anaconda3\\lib\\site-packages (from notebook>=5.0->jupyter-tensorboard) (2.10.3)\n",
      "Requirement already satisfied: terminado>=0.8.1 in c:\\users\\elda\\anaconda3\\lib\\site-packages (from notebook>=5.0->jupyter-tensorboard) (0.8.2)\n",
      "Requirement already satisfied: nbformat in c:\\users\\elda\\anaconda3\\lib\\site-packages (from notebook>=5.0->jupyter-tensorboard) (4.4.0)\n",
      "Requirement already satisfied: tornado>=5.0 in c:\\users\\elda\\anaconda3\\lib\\site-packages (from notebook>=5.0->jupyter-tensorboard) (6.0.3)\n",
      "Requirement already satisfied: python-dateutil>=2.1 in c:\\users\\elda\\anaconda3\\lib\\site-packages (from jupyter-client>=5.3.1->notebook>=5.0->jupyter-tensorboard) (2.8.0)\n",
      "Requirement already satisfied: pywin32>=1.0; sys_platform == \"win32\" in c:\\users\\elda\\anaconda3\\lib\\site-packages (from jupyter-client>=5.3.1->notebook>=5.0->jupyter-tensorboard) (223)\n",
      "Requirement already satisfied: decorator in c:\\users\\elda\\anaconda3\\lib\\site-packages (from traitlets>=4.2.1->notebook>=5.0->jupyter-tensorboard) (4.4.0)\n",
      "Requirement already satisfied: six in c:\\users\\elda\\anaconda3\\lib\\site-packages (from traitlets>=4.2.1->notebook>=5.0->jupyter-tensorboard) (1.14.0)\n",
      "Requirement already satisfied: bleach in c:\\users\\elda\\anaconda3\\lib\\site-packages (from nbconvert->notebook>=5.0->jupyter-tensorboard) (3.1.0)\n",
      "Requirement already satisfied: mistune<2,>=0.8.1 in c:\\users\\elda\\anaconda3\\lib\\site-packages (from nbconvert->notebook>=5.0->jupyter-tensorboard) (0.8.4)\n",
      "Requirement already satisfied: defusedxml in c:\\users\\elda\\anaconda3\\lib\\site-packages (from nbconvert->notebook>=5.0->jupyter-tensorboard) (0.6.0)\n",
      "Requirement already satisfied: pandocfilters>=1.4.1 in c:\\users\\elda\\anaconda3\\lib\\site-packages (from nbconvert->notebook>=5.0->jupyter-tensorboard) (1.4.2)\n",
      "Requirement already satisfied: pygments in c:\\users\\elda\\anaconda3\\lib\\site-packages (from nbconvert->notebook>=5.0->jupyter-tensorboard) (2.4.2)\n",
      "Requirement already satisfied: entrypoints>=0.2.2 in c:\\users\\elda\\anaconda3\\lib\\site-packages (from nbconvert->notebook>=5.0->jupyter-tensorboard) (0.3)\n",
      "Requirement already satisfied: testpath in c:\\users\\elda\\anaconda3\\lib\\site-packages (from nbconvert->notebook>=5.0->jupyter-tensorboard) (0.4.2)\n",
      "Requirement already satisfied: ipython>=5.0.0 in c:\\users\\elda\\anaconda3\\lib\\site-packages (from ipykernel->notebook>=5.0->jupyter-tensorboard) (7.8.0)\n",
      "Requirement already satisfied: MarkupSafe>=0.23 in c:\\users\\elda\\anaconda3\\lib\\site-packages (from jinja2->notebook>=5.0->jupyter-tensorboard) (1.1.1)\n",
      "Requirement already satisfied: jsonschema!=2.5.0,>=2.4 in c:\\users\\elda\\anaconda3\\lib\\site-packages (from nbformat->notebook>=5.0->jupyter-tensorboard) (3.0.2)\n",
      "Requirement already satisfied: webencodings in c:\\users\\elda\\anaconda3\\lib\\site-packages (from bleach->nbconvert->notebook>=5.0->jupyter-tensorboard) (0.5.1)\n",
      "Requirement already satisfied: backcall in c:\\users\\elda\\anaconda3\\lib\\site-packages (from ipython>=5.0.0->ipykernel->notebook>=5.0->jupyter-tensorboard) (0.1.0)\n",
      "Requirement already satisfied: pickleshare in c:\\users\\elda\\anaconda3\\lib\\site-packages (from ipython>=5.0.0->ipykernel->notebook>=5.0->jupyter-tensorboard) (0.7.5)\n",
      "Requirement already satisfied: prompt-toolkit<2.1.0,>=2.0.0 in c:\\users\\elda\\anaconda3\\lib\\site-packages (from ipython>=5.0.0->ipykernel->notebook>=5.0->jupyter-tensorboard) (2.0.10)\n",
      "Requirement already satisfied: setuptools>=18.5 in c:\\users\\elda\\anaconda3\\lib\\site-packages (from ipython>=5.0.0->ipykernel->notebook>=5.0->jupyter-tensorboard) (46.1.3)\n",
      "Requirement already satisfied: jedi>=0.10 in c:\\users\\elda\\anaconda3\\lib\\site-packages (from ipython>=5.0.0->ipykernel->notebook>=5.0->jupyter-tensorboard) (0.15.1)\n",
      "Requirement already satisfied: colorama; sys_platform == \"win32\" in c:\\users\\elda\\anaconda3\\lib\\site-packages (from ipython>=5.0.0->ipykernel->notebook>=5.0->jupyter-tensorboard) (0.4.1)\n",
      "Requirement already satisfied: attrs>=17.4.0 in c:\\users\\elda\\anaconda3\\lib\\site-packages (from jsonschema!=2.5.0,>=2.4->nbformat->notebook>=5.0->jupyter-tensorboard) (19.2.0)\n",
      "Requirement already satisfied: pyrsistent>=0.14.0 in c:\\users\\elda\\anaconda3\\lib\\site-packages (from jsonschema!=2.5.0,>=2.4->nbformat->notebook>=5.0->jupyter-tensorboard) (0.15.4)\n",
      "Requirement already satisfied: wcwidth in c:\\users\\elda\\anaconda3\\lib\\site-packages (from prompt-toolkit<2.1.0,>=2.0.0->ipython>=5.0.0->ipykernel->notebook>=5.0->jupyter-tensorboard) (0.1.7)\n",
      "Requirement already satisfied: parso>=0.5.0 in c:\\users\\elda\\anaconda3\\lib\\site-packages (from jedi>=0.10->ipython>=5.0.0->ipykernel->notebook>=5.0->jupyter-tensorboard) (0.5.1)\n",
      "Note: you may need to restart the kernel to use updated packages.\n"
     ]
    }
   ],
   "source": [
    "pip install jupyter-tensorboard"
   ]
  },
  {
   "cell_type": "code",
   "execution_count": 8,
   "metadata": {},
   "outputs": [
    {
     "name": "stdout",
     "output_type": "stream",
     "text": [
      "[[2.08500e+05 7.00000e+00 8.56000e+02 8.00000e+00 2.00300e+03 6.50000e+01]\n",
      " [1.81500e+05 6.00000e+00 1.26200e+03 6.00000e+00 1.97600e+03 8.00000e+01]\n",
      " [2.23500e+05 7.00000e+00 9.20000e+02 6.00000e+00 2.00100e+03 6.80000e+01]\n",
      " ...\n",
      " [2.66500e+05 7.00000e+00 1.18800e+03 9.00000e+00 1.94100e+03 6.60000e+01]\n",
      " [1.42125e+05 5.00000e+00 1.07800e+03 5.00000e+00 1.95000e+03 6.80000e+01]\n",
      " [1.47500e+05 5.00000e+00 1.25600e+03 6.00000e+00 1.96500e+03 7.50000e+01]]\n"
     ]
    }
   ],
   "source": [
    "a=np.load('C:/Users/Elda/OneDrive/Data Science/2 Trimestre/Statistical Learning I/proyecto_training_data.npy')\n",
    "print(a)"
   ]
  },
  {
   "cell_type": "markdown",
   "metadata": {},
   "source": [
    "De las cinco variables, aquella con mayor potencial predictivo es la que corresponde a:\n",
    "\n",
    "* Calidad de los materiales // train[:,1] // - correlación = 0.7940"
   ]
  },
  {
   "cell_type": "markdown",
   "metadata": {},
   "source": [
    "Función de Costo:\n",
    "\n",
    "<img src = \"https://hackernoon.com/hn-images/0*DQ4rZdXEYzIf0iS_.png\">\n",
    "\n",
    "Actualización de los parámetros:\n",
    "\n",
    "<img src = \"https://hackernoon.com/hn-images/0*8yzvd7QZLn5T1XWg.jpg\">"
   ]
  },
  {
   "cell_type": "markdown",
   "metadata": {},
   "source": [
    "## Definiendo el grafo para la hipotesis:"
   ]
  },
  {
   "cell_type": "code",
   "execution_count": 15,
   "metadata": {},
   "outputs": [],
   "source": [
    "def modelo_GD(x, y, lr, epochs):\n",
    "\n",
    "    tf.reset_default_graph()\n",
    "    g = tf.Graph()\n",
    "    \n",
    "    with g.as_default():\n",
    "\n",
    "        muestra = len(x)\n",
    "\n",
    "        tensor_x = tf.placeholder(tf.float32,[muestra],\"tensor_x\")\n",
    "        tensor_y = tf.placeholder(tf.float32,[muestra],\"tensor_y\")\n",
    "\n",
    "\n",
    "        m = tf.get_variable(\"pendiente\", dtype=tf.float32, shape=[], initializer=tf.zeros_initializer())\n",
    "        b = tf.get_variable(\"intercepto\", dtype=tf.float32, shape=[], initializer=tf.zeros_initializer())\n",
    "\n",
    "        # hipotesis y = mx + b\n",
    "        with tf.name_scope(\"Hipotesis\"):\n",
    "            y_hat = tf.add(tf.multiply(m, tensor_x), b)\n",
    "\n",
    "        # funcion de costo\n",
    "        with tf.name_scope(\"Costo\"):\n",
    "            costo = tf.reduce_sum(tf.pow(y_hat - tensor_y, 2)) / (2 * muestra)\n",
    "            scalar_costo = tf.summary.scalar('Scalar Modelo GD', costo)\n",
    "\n",
    "        # gradiente\n",
    "        with tf.name_scope(\"Gradiente\"):\n",
    "            gradiente = tf.gradients(costo, [m,b])\n",
    "\n",
    "        # actualizacion de parametros\n",
    "        with tf.name_scope(\"Parametros\"):\n",
    "            m_actual = m.assign(m - lr*gradiente[0] )\n",
    "            b_actual = b.assign(b - lr*gradiente[1] )\n",
    "            parametros_actual = tf.group(m_actual, b_actual)\n",
    "    \n",
    "    \n",
    "        # batch gradient descent - uso de todo el dataset\n",
    "\n",
    "        plt.scatter(x, y)\n",
    "\n",
    "        with tf.train.MonitoredSession() as session:\n",
    "            \n",
    "            writer = tf.summary.FileWriter(('./Graphs'+str(lr)), session.graph)\n",
    "            \n",
    "            feed_dict = {tensor_x: x, tensor_y: y}\n",
    "\n",
    "            for i in range(epochs+1):\n",
    "                print(\"Gradiente del error respecto de m y b:\")\n",
    "                print(session.run(gradiente, feed_dict=feed_dict))\n",
    "\n",
    "                session.run(parametros_actual,feed_dict=feed_dict)\n",
    "                sc = session.run(scalar_costo,feed_dict=feed_dict)\n",
    "                writer.add_summary(sc, epochs+1)\n",
    "\n",
    "                predicciones = session.run(y_hat,feed_dict=feed_dict)\n",
    "    \n",
    "                print(\"Costo:\")\n",
    "                print(session.run(costo,feed_dict=feed_dict))\n",
    "    \n",
    "                plt.plot(a[ :, 1],predicciones,label=str(i))\n",
    "\n",
    "        plt.legend()\n",
    "        plt.show()\n",
    "    \n",
    "    return(parametros_actual)\n",
    "    \n",
    "    \n"
   ]
  },
  {
   "cell_type": "code",
   "execution_count": 16,
   "metadata": {},
   "outputs": [
    {
     "name": "stdout",
     "output_type": "stream",
     "text": [
      "INFO:tensorflow:Summary name Scalar Modelo GD is illegal; using Scalar_Modelo_GD instead.\n",
      "INFO:tensorflow:Graph was finalized.\n",
      "INFO:tensorflow:Running local_init_op.\n",
      "INFO:tensorflow:Done running local_init_op.\n",
      "Gradiente del error respecto de m y b:\n",
      "[-1190339.5, -180921.19]\n",
      "Costo:\n",
      "7927191600.0\n",
      "Gradiente del error respecto de m y b:\n",
      "[-713727.3, -106509.42]\n",
      "Costo:\n",
      "3762834400.0\n",
      "Gradiente del error respecto de m y b:\n",
      "[-428070.78, -61911.85]\n",
      "Costo:\n",
      "2266777600.0\n",
      "Gradiente del error respecto de m y b:\n",
      "[-256863.28, -35183.36]\n",
      "Costo:\n",
      "1729216400.0\n",
      "Gradiente del error respecto de m y b:\n",
      "[-154250.28, -19164.617]\n",
      "Costo:\n",
      "1535964500.0\n",
      "Gradiente del error respecto de m y b:\n",
      "[-92749.51, -9564.773]\n",
      "Costo:\n",
      "1466394100.0\n",
      "Gradiente del error respecto de m y b:\n",
      "[-55889.03, -3812.0474]\n",
      "Costo:\n",
      "1441252400.0\n",
      "Gradiente del error respecto de m y b:\n",
      "[-33796.6, -365.07285]\n",
      "Costo:\n",
      "1432070400.0\n",
      "Gradiente del error respecto de m y b:\n",
      "[-20555.406, 1699.9487]\n",
      "Costo:\n",
      "1428621700.0\n",
      "Gradiente del error respecto de m y b:\n",
      "[-12619.252, 2936.6885]\n",
      "Costo:\n",
      "1427231700.0\n",
      "Gradiente del error respecto de m y b:\n",
      "[-7862.5957, 3677.0105]\n",
      "Costo:\n",
      "1426582700.0\n",
      "Gradiente del error respecto de m y b:\n",
      "[-5011.589, 4119.801]\n",
      "Costo:\n",
      "1426198700.0\n",
      "Gradiente del error respecto de m y b:\n",
      "[-3302.726, 4384.2686]\n",
      "Costo:\n",
      "1425911300.0\n",
      "Gradiente del error respecto de m y b:\n",
      "[-2278.3342, 4541.873]\n",
      "Costo:\n",
      "1425657500.0\n",
      "Gradiente del error respecto de m y b:\n",
      "[-1664.1873, 4635.422]\n",
      "Costo:\n",
      "1425416800.0\n",
      "Gradiente del error respecto de m y b:\n",
      "[-1296.011, 4690.5723]\n",
      "Costo:\n",
      "1425181000.0\n",
      "Gradiente del error respecto de m y b:\n",
      "[-1075.1824, 4722.716]\n",
      "Costo:\n",
      "1424946600.0\n",
      "Gradiente del error respecto de m y b:\n",
      "[-942.71484, 4741.0654]\n",
      "Costo:\n",
      "1424713500.0\n",
      "Gradiente del error respecto de m y b:\n",
      "[-863.1067, 4751.162]\n",
      "Costo:\n",
      "1424479700.0\n",
      "Gradiente del error respecto de m y b:\n",
      "[-815.364, 4756.2856]\n",
      "Costo:\n",
      "1424247300.0\n",
      "Gradiente del error respecto de m y b:\n",
      "[-786.51807, 4758.46]\n",
      "Costo:\n",
      "1424014600.0\n",
      "Gradiente del error respecto de m y b:\n",
      "[-769.0796, 4758.8545]\n",
      "Costo:\n",
      "1423782300.0\n",
      "Gradiente del error respecto de m y b:\n",
      "[-758.5093, 4758.175]\n",
      "Costo:\n",
      "1423550100.0\n",
      "Gradiente del error respecto de m y b:\n",
      "[-752.0237, 4756.8613]\n",
      "Costo:\n",
      "1423318300.0\n",
      "Gradiente del error respecto de m y b:\n",
      "[-748.0095, 4755.164]\n",
      "Costo:\n",
      "1423086000.0\n",
      "Gradiente del error respecto de m y b:\n",
      "[-745.52466, 4753.2275]\n",
      "Costo:\n",
      "1422855200.0\n",
      "Gradiente del error respecto de m y b:\n",
      "[-743.8469, 4751.166]\n",
      "Costo:\n",
      "1422623900.0\n",
      "Gradiente del error respecto de m y b:\n",
      "[-742.6675, 4749.0283]\n",
      "Costo:\n",
      "1422392800.0\n",
      "Gradiente del error respecto de m y b:\n",
      "[-741.89526, 4746.828]\n",
      "Costo:\n",
      "1422161900.0\n",
      "Gradiente del error respecto de m y b:\n",
      "[-741.2246, 4744.6123]\n",
      "Costo:\n",
      "1421931500.0\n",
      "Gradiente del error respecto de m y b:\n",
      "[-740.65625, 4742.382]\n",
      "Costo:\n",
      "1421701500.0\n",
      "Gradiente del error respecto de m y b:\n",
      "[-740.2263, 4740.133]\n",
      "Costo:\n",
      "1421471200.0\n",
      "Gradiente del error respecto de m y b:\n",
      "[-739.8264, 4737.8804]\n",
      "Costo:\n",
      "1421241600.0\n",
      "Gradiente del error respecto de m y b:\n",
      "[-739.4287, 4735.6245]\n",
      "Costo:\n",
      "1421011600.0\n",
      "Gradiente del error respecto de m y b:\n",
      "[-739.07227, 4733.365]\n",
      "Costo:\n",
      "1420782000.0\n",
      "Gradiente del error respecto de m y b:\n",
      "[-738.7671, 4731.103]\n",
      "Costo:\n",
      "1420553200.0\n",
      "Gradiente del error respecto de m y b:\n",
      "[-738.31934, 4728.8594]\n",
      "Costo:\n",
      "1420324100.0\n",
      "Gradiente del error respecto de m y b:\n",
      "[-738.00146, 4726.5977]\n",
      "Costo:\n",
      "1420095400.0\n",
      "Gradiente del error respecto de m y b:\n",
      "[-737.6221, 4724.3457]\n",
      "Costo:\n",
      "1419866800.0\n",
      "Gradiente del error respecto de m y b:\n",
      "[-737.28296, 4722.093]\n",
      "Costo:\n",
      "1419638000.0\n",
      "Gradiente del error respecto de m y b:\n",
      "[-736.89966, 4719.842]\n",
      "Costo:\n",
      "1419410300.0\n",
      "Gradiente del error respecto de m y b:\n",
      "[-736.47437, 4717.6045]\n",
      "Costo:\n",
      "1419182100.0\n",
      "Gradiente del error respecto de m y b:\n",
      "[-736.2107, 4715.34]\n",
      "Costo:\n",
      "1418954500.0\n",
      "Gradiente del error respecto de m y b:\n",
      "[-735.82935, 4713.094]\n",
      "Costo:\n",
      "1418726800.0\n",
      "Gradiente del error respecto de m y b:\n",
      "[-735.56055, 4710.831]\n",
      "Costo:\n",
      "1418499300.0\n",
      "Gradiente del error respecto de m y b:\n",
      "[-735.1992, 4708.586]\n",
      "Costo:\n",
      "1418272600.0\n",
      "Gradiente del error respecto de m y b:\n",
      "[-734.84644, 4706.341]\n",
      "Costo:\n",
      "1418045600.0\n",
      "Gradiente del error respecto de m y b:\n",
      "[-734.4834, 4704.097]\n",
      "Costo:\n",
      "1417819400.0\n",
      "Gradiente del error respecto de m y b:\n",
      "[-734.1028, 4701.8584]\n",
      "Costo:\n",
      "1417592300.0\n",
      "Gradiente del error respecto de m y b:\n",
      "[-733.7234, 4699.619]\n",
      "Costo:\n",
      "1417366300.0\n",
      "Gradiente del error respecto de m y b:\n",
      "[-733.38086, 4697.375]\n",
      "Costo:\n",
      "1417141000.0\n"
     ]
    },
    {
     "data": {
      "image/png": "[encoded data removed]",
      "text/plain": [
       "<Figure size 432x288 with 1 Axes>"
      ]
     },
     "metadata": {
      "needs_background": "light"
     },
     "output_type": "display_data"
    },
    {
     "data": {
      "text/plain": [
       "<tf.Operation 'Parametros/group_deps' type=NoOp>"
      ]
     },
     "execution_count": 16,
     "metadata": {},
     "output_type": "execute_result"
    }
   ],
   "source": [
    "modelo_GD(a[:, 1], a[:, 0], 0.01, 50)"
   ]
  },
  {
   "cell_type": "code",
   "execution_count": null,
   "metadata": {},
   "outputs": [],
   "source": [
    "len(a[:,0])"
   ]
  },
  {
   "cell_type": "markdown",
   "metadata": {},
   "source": [
    "## Sesion"
   ]
  },
  {
   "cell_type": "code",
   "execution_count": null,
   "metadata": {},
   "outputs": [],
   "source": [
    "x = a[:, 1]\n",
    "y = a[:, 0]\n",
    "lr = 0.01\n",
    "epochs = 50\n",
    "muestra = len(x)"
   ]
  },
  {
   "cell_type": "code",
   "execution_count": null,
   "metadata": {},
   "outputs": [],
   "source": [
    "tf.reset_default_graph()\n",
    "\n",
    "tensor_x = tf.placeholder(tf.float32,[muestra],\"tensor_x\")\n",
    "tensor_y = tf.placeholder(tf.float32,[muestra],\"tensor_y\")\n",
    "\n",
    "\n",
    "m = tf.get_variable(\"pendiente\", dtype=tf.float32, shape=[], initializer=tf.zeros_initializer())\n",
    "b = tf.get_variable(\"intercepto\", dtype=tf.float32, shape=[], initializer=tf.zeros_initializer())\n",
    "\n",
    "# hipotesis y = mx + b\n",
    "y_hat = tf.add(tf.multiply(m, tensor_x), b)\n",
    "\n",
    "# funcion de costo\n",
    "costo = tf.reduce_sum(tf.pow(y_hat - tensor_y, 2)) / (2 * muestra)\n",
    "\n",
    "# gradiente\n",
    "gradiente = tf.gradients(costo, [m,b])\n",
    "\n",
    "# actualizacion de parametros\n",
    "m_actual = m.assign(m - lr*gradiente[0] )\n",
    "b_actual = b.assign(b - lr*gradiente[1] )\n",
    "parametros_actual = tf.group(m_actual, b_actual)\n",
    "    \n",
    "    \n"
   ]
  },
  {
   "cell_type": "code",
   "execution_count": null,
   "metadata": {},
   "outputs": [],
   "source": [
    "# batch gradient descent - uso de todo el dataset\n",
    "\n",
    "plt.scatter(x, y)\n",
    "\n",
    "with tf.train.MonitoredSession() as session:\n",
    "    feed_dict = {tensor_x: x, tensor_y: y}\n",
    "\n",
    "    for i in range(epochs+1):\n",
    "        print(\"Gradiente del error respecto de m y b:\")\n",
    "        print(session.run(gradiente, feed_dict=feed_dict))\n",
    "\n",
    "        session.run(parametros_actual,feed_dict=feed_dict)\n",
    "\n",
    "        predicciones = session.run(y_hat,feed_dict=feed_dict)\n",
    "    \n",
    "        print(\"Costo:\")\n",
    "        print(session.run(costo,feed_dict=feed_dict))\n",
    "    \n",
    "        plt.plot(a[ :, 1],predicciones,label=str(i))\n",
    "\n",
    "plt.legend()\n",
    "plt.show()\n",
    "    "
   ]
  }
 ],
 "metadata": {
  "kernelspec": {
   "display_name": "Python 3",
   "language": "python",
   "name": "python3"
  },
  "language_info": {
   "codemirror_mode": {
    "name": "ipython",
    "version": 3
   },
   "file_extension": ".py",
   "mimetype": "text/x-python",
   "name": "python",
   "nbconvert_exporter": "python",
   "pygments_lexer": "ipython3",
   "version": "3.7.4"
  }
 },
 "nbformat": 4,
 "nbformat_minor": 4
}
