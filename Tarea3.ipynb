{
 "cells": [
  {
   "cell_type": "markdown",
   "metadata": {},
   "source": [
    "**Elda Magally Calderón Motta**\n",
    "\n",
    "**Carné: 16003182**\n",
    "\n",
    "**Sección: V**"
   ]
  },
  {
   "cell_type": "markdown",
   "metadata": {},
   "source": [
    "# Tarea 3\n",
    "\n",
    "## Funciones en Python\n",
    "\n",
    "Una función puede definirse como un bloque de código que realiza una determinada tarea. Las funciones pueden definirse de la siguiente manera:\n",
    "\n",
    "def nombre_funcion(parametro1, parametro2,...,parametron)\n",
    "    return()"
   ]
  },
  {
   "cell_type": "code",
   "execution_count": 8,
   "metadata": {},
   "outputs": [
    {
     "data": {
      "text/plain": [
       "9"
      ]
     },
     "execution_count": 8,
     "metadata": {},
     "output_type": "execute_result"
    }
   ],
   "source": [
    "#Ejemplo 1:\n",
    "\n",
    "def suma(a, b):\n",
    "    total = a + b\n",
    "    return total\n",
    "\n",
    "suma(5,4)"
   ]
  },
  {
   "cell_type": "markdown",
   "metadata": {},
   "source": [
    "## Parámetros Posicionales\n",
    "\n",
    "De esta forma, las funciones que se declaren en Python reciben unos ciertos parámetros que se emplearán dentro de las instruciones de la función. Los parámetros reciben un cierto valor y el valor que se les asigne es según la posición en que se indican. \n",
    "\n",
    "El valor en el que se asignan los argumentos de los parámetros depende del orden con el que se llaman. Este orden puede cambiar si se indica explícitamente el nombre de los parámetros al momento de llamar a la función.\n",
    "\n",
    "En el ejemplo anterior como se declaró en la función que el primer parámetro era \"a\" y el segundo \"b\" al momento de llamar a la función con los argumentos (5, 4) posicionalmente se asignan el primero a \"a\" y el segundo a \"b\". Pero si se cambia el orden indicando el nombre del parámetro se asignan correctamente"
   ]
  },
  {
   "cell_type": "code",
   "execution_count": 14,
   "metadata": {},
   "outputs": [
    {
     "name": "stdout",
     "output_type": "stream",
     "text": [
      "1\n",
      "-1\n"
     ]
    }
   ],
   "source": [
    "#Ejemplo 2:\n",
    "\n",
    "def resta(a, b):\n",
    "    total = a - b\n",
    "    return total\n",
    "\n",
    "print(resta(5, 4))\n",
    "\n",
    "print(resta(4, 5))\n",
    "\n",
    "print(resta(b=4, a=5))"
   ]
  },
  {
   "cell_type": "markdown",
   "metadata": {},
   "source": [
    "## Parámetros Nombrados\n",
    "\n",
    "Como se vió anteriormente, esta característica de Python permite llamar a una función indicando en cualquier orden los parámetros de la misma, pero se debe especificar en la llamada el nombre del parámetro y el valor a asignarle.\n",
    "\n",
    "También es posible nombrar únicamente a unos cuantos parámetros durante la llamada, es decir utilizar de manera conjunta parámetros no nombrados como nombrados. En tal caso es importante que se coloquen primero los parámetros no nombrados y luego los nombrados al momento de llamar la función."
   ]
  },
  {
   "cell_type": "code",
   "execution_count": 35,
   "metadata": {},
   "outputs": [
    {
     "name": "stdout",
     "output_type": "stream",
     "text": [
      "1\n",
      "-1\n",
      "4\n"
     ]
    }
   ],
   "source": [
    "#Ejemplo 3:\n",
    "\n",
    "def resta(a, b):\n",
    "    total = a - b\n",
    "    return total\n",
    "\n",
    "print(resta(5, 4))\n",
    "\n",
    "print(resta(4, 5))\n",
    "\n",
    "print(resta(6, b=2))"
   ]
  },
  {
   "cell_type": "code",
   "execution_count": 20,
   "metadata": {},
   "outputs": [
    {
     "ename": "SyntaxError",
     "evalue": "positional argument follows keyword argument (<ipython-input-20-9804990a8947>, line 9)",
     "output_type": "error",
     "traceback": [
      "\u001b[1;36m  File \u001b[1;32m\"<ipython-input-20-9804990a8947>\"\u001b[1;36m, line \u001b[1;32m9\u001b[0m\n\u001b[1;33m    print(resta_num(z = 2, y = 5,2))\u001b[0m\n\u001b[1;37m                                ^\u001b[0m\n\u001b[1;31mSyntaxError\u001b[0m\u001b[1;31m:\u001b[0m positional argument follows keyword argument\n"
     ]
    }
   ],
   "source": [
    "#Ejemplo 4:\n",
    "\n",
    "def resta_num(x, y, z):\n",
    "    total = x - y - z\n",
    "    return total\n",
    "\n",
    "print(resta_num(2, z = 2, y = 5))\n",
    "\n",
    "print(resta_num(z = 2, y = 5, 2)) #devuelve error al indicar el parámetro no nombrado de último\n"
   ]
  },
  {
   "cell_type": "markdown",
   "metadata": {},
   "source": [
    "## Retorno de Múltiples Valores\n",
    "\n",
    "Algunas funciones pueden declarar el retorno de más de un valor, donde el resultado del retorno es una tupla donde se almacena la información"
   ]
  },
  {
   "cell_type": "code",
   "execution_count": 26,
   "metadata": {},
   "outputs": [
    {
     "name": "stdout",
     "output_type": "stream",
     "text": [
      "(15, 5)\n",
      "<class 'tuple'>\n"
     ]
    }
   ],
   "source": [
    "# Ejemplo 5:\n",
    "\n",
    "def operaciones(x, y, z):\n",
    "    suma = x + y + z\n",
    "    resta = x - y - z\n",
    "    return suma, resta\n",
    "\n",
    "\n",
    "print(operaciones(10, 4, 1))\n",
    "\n",
    "print(type(operaciones(10, 4, 1)))"
   ]
  },
  {
   "cell_type": "markdown",
   "metadata": {},
   "source": [
    "Si se quisiera obtener los resultados en forma de no tupla sería de asignar variables para cada uno de los resulatos de la función. Los valores que se asignen a las variables es según el orden como se indiquen en la función."
   ]
  },
  {
   "cell_type": "code",
   "execution_count": 78,
   "metadata": {},
   "outputs": [
    {
     "name": "stdout",
     "output_type": "stream",
     "text": [
      "15\n",
      "5\n",
      "15 5\n"
     ]
    }
   ],
   "source": [
    "# Ejemplo 6:\n",
    "\n",
    "def operaciones(x, y, z):\n",
    "    suma = x + y + z\n",
    "    resta = x - y - z\n",
    "    return suma, resta\n",
    "\n",
    "w, r = operaciones(10, 4, 1)\n",
    "\n",
    "print(w)\n",
    "print(r)\n",
    "print(w, r)"
   ]
  },
  {
   "cell_type": "markdown",
   "metadata": {},
   "source": [
    "## Funciones como Objetos y como Parámetros de otras Funciones\n",
    "\n",
    "El resultado que se obtiene de una función puede ser pasado como parámetro para otra función"
   ]
  },
  {
   "cell_type": "code",
   "execution_count": 70,
   "metadata": {},
   "outputs": [
    {
     "name": "stdout",
     "output_type": "stream",
     "text": [
      "9\n"
     ]
    }
   ],
   "source": [
    "#Ejemplo 7:\n",
    "\n",
    "def suma(a, b):\n",
    "    total = a + b\n",
    "    return total\n",
    "\n",
    "s = suma(5,4)\n",
    "\n",
    "print(t)"
   ]
  },
  {
   "cell_type": "code",
   "execution_count": 71,
   "metadata": {},
   "outputs": [
    {
     "name": "stdout",
     "output_type": "stream",
     "text": [
      "1\n"
     ]
    }
   ],
   "source": [
    "def resta(a, b):\n",
    "    total = a - b\n",
    "    return total\n",
    "\n",
    "r = resta(5, 4)\n",
    "\n",
    "print (r)"
   ]
  },
  {
   "cell_type": "code",
   "execution_count": 61,
   "metadata": {},
   "outputs": [
    {
     "data": {
      "text/plain": [
       "9"
      ]
     },
     "execution_count": 61,
     "metadata": {},
     "output_type": "execute_result"
    }
   ],
   "source": [
    "def multiplicacion(s, r):\n",
    "    total = s * r\n",
    "    return total\n",
    "\n",
    "multiplicacion(s,r)"
   ]
  },
  {
   "cell_type": "markdown",
   "metadata": {},
   "source": [
    "## Funciones Anónimas o Lambda\n",
    "\n",
    "Estas son funciones sin nombre. El contenido de una función anónima debe ser una única expresión en lugar de un bloque de acciones.\n",
    "\n",
    "Las funciones anónimas en Python se implementan con funciones lambda"
   ]
  },
  {
   "cell_type": "code",
   "execution_count": 82,
   "metadata": {},
   "outputs": [
    {
     "data": {
      "text/plain": [
       "9"
      ]
     },
     "execution_count": 82,
     "metadata": {},
     "output_type": "execute_result"
    }
   ],
   "source": [
    "# Ejemplo 8\n",
    "\n",
    "def triple(numero):\n",
    "    resultado = numero * 3\n",
    "    return resultado\n",
    "\n",
    "triple(3)\n",
    "\n",
    "\n",
    "# El código puede simplificarse:\n",
    "\n",
    "def triple(numero):\n",
    "    return numero * 3\n",
    "\n",
    "triple(3)\n",
    "\n",
    "\n",
    "# Simplificando en una línea\n",
    "\n",
    "def triple(numero): return numero * 3\n",
    "\n",
    "triple(3)"
   ]
  },
  {
   "cell_type": "markdown",
   "metadata": {},
   "source": [
    "Esta función de una sola línea puede escribirse como una función anónima o lambda"
   ]
  },
  {
   "cell_type": "code",
   "execution_count": 86,
   "metadata": {},
   "outputs": [
    {
     "data": {
      "text/plain": [
       "<function __main__.<lambda>(numero)>"
      ]
     },
     "execution_count": 86,
     "metadata": {},
     "output_type": "execute_result"
    }
   ],
   "source": [
    "lambda numero: numero * 3"
   ]
  },
  {
   "cell_type": "markdown",
   "metadata": {},
   "source": [
    "Para utilizarla se guarda en una variable para posterior llamarla como una función normal"
   ]
  },
  {
   "cell_type": "code",
   "execution_count": 85,
   "metadata": {},
   "outputs": [
    {
     "data": {
      "text/plain": [
       "12"
      ]
     },
     "execution_count": 85,
     "metadata": {},
     "output_type": "execute_result"
    }
   ],
   "source": [
    "prueba = lambda numero: numero * 3\n",
    "prueba(4)"
   ]
  }
 ],
 "metadata": {
  "kernelspec": {
   "display_name": "Python 3",
   "language": "python",
   "name": "python3"
  },
  "language_info": {
   "codemirror_mode": {
    "name": "ipython",
    "version": 3
   },
   "file_extension": ".py",
   "mimetype": "text/x-python",
   "name": "python",
   "nbconvert_exporter": "python",
   "pygments_lexer": "ipython3",
   "version": "3.7.4"
  }
 },
 "nbformat": 4,
 "nbformat_minor": 4
}
